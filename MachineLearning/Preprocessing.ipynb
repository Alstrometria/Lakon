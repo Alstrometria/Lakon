{
  "nbformat": 4,
  "nbformat_minor": 0,
  "metadata": {
    "colab": {
      "name": "Preprocessing.ipynb",
      "provenance": []
    },
    "kernelspec": {
      "name": "python3",
      "display_name": "Python 3"
    },
    "language_info": {
      "name": "python"
    },
    "accelerator": "GPU"
  },
  "cells": [
    {
      "cell_type": "markdown",
      "source": [
        "# **Data Preprocessing**\n",
        "\n",
        "We have a dataset with 14 puppet classes. Each class has approximately 100 images collected from google images. In this Data Preparation, we want to divide the data into data for training and data for testing."
      ],
      "metadata": {
        "id": "gRZ86HYeycus"
      }
    },
    {
      "cell_type": "markdown",
      "source": [
        "The data before preprocessing will look as follows:\n",
        "\n",
        "-WAYANG\n",
        "*   Kresna\n",
        "*   Petruk\n",
        "*   Bima\n",
        "*   etc\n",
        "\n",
        "\n",
        "\n"
      ],
      "metadata": {
        "id": "VOXXm0_5zjc4"
      }
    },
    {
      "cell_type": "markdown",
      "source": [
        "The data after preprocessing will look like the following:\n",
        " \n",
        "*   DATASET\n",
        "  *   TRAIN\n",
        "      *   Kresna\n",
        "      *   Petruk\n",
        "      *   Bima\n",
        "      *   etc\n",
        "\n",
        "  *   TEST\n",
        "      *   Kresna\n",
        "      *   Petruk\n",
        "      *   Bima\n",
        "      *   etc\n",
        "\n",
        "\n"
      ],
      "metadata": {
        "id": "xsIP2Iiw0kzp"
      }
    },
    {
      "cell_type": "markdown",
      "source": [
        "# **Import All Denpendencies**"
      ],
      "metadata": {
        "id": "NkVzP1Ds1dfF"
      }
    },
    {
      "cell_type": "code",
      "source": [
        "import cv2\n",
        "import os\n",
        "import matplotlib.pyplot as plt\n",
        "import numpy as np\n",
        "import random\n",
        "from google.colab import drive\n"
      ],
      "metadata": {
        "id": "2_FjhUC81pFU"
      },
      "execution_count": 1,
      "outputs": []
    },
    {
      "cell_type": "markdown",
      "source": [
        "# **Validate the Data**\n",
        "\n"
      ],
      "metadata": {
        "id": "0TMnnbpx19qj"
      }
    },
    {
      "cell_type": "code",
      "source": [
        "drive.mount('/content/drive/')"
      ],
      "metadata": {
        "colab": {
          "base_uri": "https://localhost:8080/"
        },
        "id": "qx7lV1aQ221I",
        "outputId": "eec0ca29-1978-4706-e5f0-56b38984141c"
      },
      "execution_count": 2,
      "outputs": [
        {
          "output_type": "stream",
          "name": "stdout",
          "text": [
            "Mounted at /content/drive/\n"
          ]
        }
      ]
    },
    {
      "cell_type": "markdown",
      "source": [
        "Unzip the data"
      ],
      "metadata": {
        "id": "Ix_GCzIa3qSj"
      }
    },
    {
      "cell_type": "code",
      "source": [
        "!unzip \"/content/drive/MyDrive/Lakon/Dataset/Wayang.zip\" -d \"/content/drive/MyDrive/Lakon/Dataset\""
      ],
      "metadata": {
        "id": "GyarhB2-3uSg"
      },
      "execution_count": null,
      "outputs": []
    },
    {
      "cell_type": "code",
      "source": [
        "wayang_types = os.listdir(\"/content/drive/MyDrive/Lakon/Dataset/Dataset\")\n",
        "print (wayang_types)"
      ],
      "metadata": {
        "colab": {
          "base_uri": "https://localhost:8080/"
        },
        "id": "pPwOhEht2YZV",
        "outputId": "93ac3c31-070a-432d-80e1-929f48b35e09"
      },
      "execution_count": 5,
      "outputs": [
        {
          "output_type": "stream",
          "name": "stdout",
          "text": [
            "['Petruk', 'Semar', 'Yudhistira', 'Nakula', 'Kresna', 'Gatot Kaca', 'Antasena', 'Hanoman', 'Bima', 'Bagong', 'Abimanyu', 'Arjuna', 'Gareng', 'Cepot']\n"
          ]
        }
      ]
    },
    {
      "cell_type": "markdown",
      "source": [
        "# **Create Destination Directory Structure**"
      ],
      "metadata": {
        "id": "Lv7j8g3P5JkD"
      }
    },
    {
      "cell_type": "code",
      "source": [
        "%cd /content/drive/MyDrive/Lakon/\n",
        "cwd = os.getcwd()\n",
        "print (cwd)"
      ],
      "metadata": {
        "colab": {
          "base_uri": "https://localhost:8080/"
        },
        "id": "9IdvClwr5DP8",
        "outputId": "be06ae39-32c4-4e3b-d85b-11ff84a22183"
      },
      "execution_count": 6,
      "outputs": [
        {
          "output_type": "stream",
          "name": "stdout",
          "text": [
            "/content/drive/MyDrive/Lakon\n",
            "/content/drive/MyDrive/Lakon\n"
          ]
        }
      ]
    },
    {
      "cell_type": "code",
      "source": [
        "cwd = os.getcwd()\n",
        "print (cwd)\n",
        "\n",
        "if os.path.exists(\"DATASET\"):\n",
        "    print(\"Directory is already created!\")\n",
        "else:\n",
        "    print(\"Creating DATASET directory ...\")\n",
        "    for types in wayang_types:\n",
        "        os.makedirs(os.path.join(cwd,\"DATASET\",\"TRAIN\",types))\n",
        "        os.makedirs(os.path.join(cwd,\"DATASET\",\"TEST\",types))\n",
        "    print(\"DATASET directory is created!\")"
      ],
      "metadata": {
        "colab": {
          "base_uri": "https://localhost:8080/"
        },
        "id": "wIEczwYB5VLV",
        "outputId": "cf96c91a-cdc9-4683-f025-47d4e55e4e3a"
      },
      "execution_count": 7,
      "outputs": [
        {
          "output_type": "stream",
          "name": "stdout",
          "text": [
            "/content/drive/MyDrive/Lakon\n",
            "Directory is already created!\n"
          ]
        }
      ]
    },
    {
      "cell_type": "markdown",
      "source": [
        "# **Plot the Dataset distribution**"
      ],
      "metadata": {
        "id": "alGRHF-ZaR5l"
      }
    },
    {
      "cell_type": "code",
      "source": [
        "data_count = []\n",
        "loc = '/content/drive/MyDrive/Lakon/Dataset/Dataset'\n",
        "for types in wayang_types:\n",
        "    count = len(os.listdir(os.path.join(cwd, loc, types)))\n",
        "    print(f'{types} --> {count}')\n",
        "    data_count.append(count)\n",
        "\n",
        "plt.figure(figsize=(12,5))\n",
        "plt.title(f\"Amount of each from {len(wayang_types)} wayang types\")\n",
        "plt.bar(wayang_types, data_count)\n",
        "plt.xticks(rotation=45)\n",
        "plt.show()"
      ],
      "metadata": {
        "colab": {
          "base_uri": "https://localhost:8080/",
          "height": 615
        },
        "id": "VLcEoSRH5cQ-",
        "outputId": "0c8719e6-303d-41fb-cd1a-abf41e79da7f"
      },
      "execution_count": 8,
      "outputs": [
        {
          "output_type": "stream",
          "name": "stdout",
          "text": [
            "Petruk --> 115\n",
            "Semar --> 110\n",
            "Yudhistira --> 105\n",
            "Nakula --> 101\n",
            "Kresna --> 100\n",
            "Gatot Kaca --> 100\n",
            "Antasena --> 100\n",
            "Hanoman --> 116\n",
            "Bima --> 120\n",
            "Bagong --> 126\n",
            "Abimanyu --> 100\n",
            "Arjuna --> 103\n",
            "Gareng --> 100\n",
            "Cepot --> 100\n"
          ]
        },
        {
          "output_type": "display_data",
          "data": {
            "text/plain": [
              "<Figure size 864x360 with 1 Axes>"
            ],
            "image/png": "[encoded data removed]"
          },
          "metadata": {
            "needs_background": "light"
          }
        }
      ]
    },
    {
      "cell_type": "markdown",
      "source": [
        "# **Split the data**"
      ],
      "metadata": {
        "id": "heHJY-uL6Fp4"
      }
    },
    {
      "cell_type": "code",
      "source": [
        "dataset_size = 100\n",
        "train_size = 80\n",
        "Wayang = '/content/drive/MyDrive/Lakon/Dataset/Dataset'\n",
        "for types in wayang_types:\n",
        "    print(types)\n",
        "    filenames = os.listdir(os.path.join(Wayang,types))\n",
        "    filenames = random.sample(filenames, dataset_size)\n",
        "    for idx, name in enumerate(filenames):\n",
        "        image = cv2.imread(os.path.join(cwd,Wayang,types,name))\n",
        "        image = cv2.resize(image,(224,224),interpolation = cv2.INTER_AREA)\n",
        "        if idx < train_size:\n",
        "            cv2.imwrite(os.path.join(cwd,\"DATASET\",\"TRAIN\", types, str(idx)+\".jpg\"),image)\n",
        "        else:\n",
        "            cv2.imwrite(os.path.join(cwd,\"DATASET\",\"TEST\", types, str(idx)+\".jpg\"),image)"
      ],
      "metadata": {
        "colab": {
          "base_uri": "https://localhost:8080/"
        },
        "id": "NxJpKqD16ErZ",
        "outputId": "4b36763b-1bf0-4f5a-a556-03cdace29460"
      },
      "execution_count": null,
      "outputs": [
        {
          "output_type": "stream",
          "name": "stdout",
          "text": [
            "Petruk\n",
            "Semar\n",
            "Arjuna\n",
            "Yudhistira\n",
            "Nakula\n",
            "Kresna\n",
            "Cepot\n",
            "Gatot Kaca\n",
            "Antasena\n",
            "Gareng\n",
            "Hanoman\n",
            "Bima\n",
            "Bagong\n",
            "Abimanyu\n"
          ]
        }
      ]
    },
    {
      "cell_type": "markdown",
      "source": [
        "Finally, the preprocessed dataset will be uploaded to Kaggle for later use in making Machine Learning models."
      ],
      "metadata": {
        "id": "h0aaXQdQ7Vuy"
      }
    }
  ]
}