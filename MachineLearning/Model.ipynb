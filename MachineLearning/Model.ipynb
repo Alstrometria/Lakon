{
  "nbformat": 4,
  "nbformat_minor": 0,
  "metadata": {
    "colab": {
      "name": "Model.ipynb",
      "provenance": []
    },
    "kernelspec": {
      "name": "python3",
      "display_name": "Python 3"
    },
    "language_info": {
      "name": "python"
    },
    "accelerator": "GPU"
  },
  "cells": [
    {
      "cell_type": "markdown",
      "source": [
        "# **Download dataset from Kaggle**"
      ],
      "metadata": {
        "id": "X2gVQMZR9F3k"
      }
    },
    {
      "cell_type": "code",
      "execution_count": 1,
      "metadata": {
        "colab": {
          "resources": {
            "http://localhost:8080/nbextensions/google.colab/files.js": {
              "data": "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",
              "ok": true,
              "headers": [
                [
                  "content-type",
                  "application/javascript"
                ]
              ],
              "status": 200,
              "status_text": ""
            }
          },
          "base_uri": "https://localhost:8080/",
          "height": 91
        },
        "id": "Vty5NOL-9FL3",
        "outputId": "f4b0f22b-16ee-42c8-c86a-1307009fb016"
      },
      "outputs": [
        {
          "output_type": "display_data",
          "data": {
            "text/plain": [
              "<IPython.core.display.HTML object>"
            ],
            "text/html": [
              "\n",
              "     <input type=\"file\" id=\"files-8a203a82-c584-453f-9fdd-c440f34afac4\" name=\"files[]\" multiple disabled\n",
              "        style=\"border:none\" />\n",
              "     <output id=\"result-8a203a82-c584-453f-9fdd-c440f34afac4\">\n",
              "      Upload widget is only available when the cell has been executed in the\n",
              "      current browser session. Please rerun this cell to enable.\n",
              "      </output>\n",
              "      <script src=\"/nbextensions/google.colab/files.js\"></script> "
            ]
          },
          "metadata": {}
        },
        {
          "output_type": "stream",
          "name": "stdout",
          "text": [
            "Saving kaggle.json to kaggle.json\n"
          ]
        },
        {
          "output_type": "execute_result",
          "data": {
            "text/plain": [
              "{'kaggle.json': b'{\"username\":\"immanuelmayerd\",\"key\":\"c0af11c2081e01520dcaa4c65a5076b8\"}'}"
            ]
          },
          "metadata": {},
          "execution_count": 1
        }
      ],
      "source": [
        "from google.colab import files\n",
        "files.upload()"
      ]
    },
    {
      "cell_type": "markdown",
      "source": [
        "Run this cell to install kaggle dependency, copy the file into ~/.kaggle/kaggle.json, and change file permissions to 600."
      ],
      "metadata": {
        "id": "Qw-Ee0RR-gcE"
      }
    },
    {
      "cell_type": "code",
      "source": [
        "!pip install -q kaggle\n",
        "!mkdir ~/.kaggle\n",
        "!cp kaggle.json ~/.kaggle/\n",
        "!chmod 600 ~/.kaggle/kaggle.json"
      ],
      "metadata": {
        "id": "2izO6el3-eC2"
      },
      "execution_count": 2,
      "outputs": []
    },
    {
      "cell_type": "markdown",
      "source": [
        "Download all the dataset using this command below."
      ],
      "metadata": {
        "id": "UAPL5thT-riR"
      }
    },
    {
      "cell_type": "code",
      "source": [
        "!kaggle datasets download -d immanuelmayerd/14-indonesian-wayang-types"
      ],
      "metadata": {
        "colab": {
          "base_uri": "https://localhost:8080/"
        },
        "id": "g2UZgzt7-sXo",
        "outputId": "2f6fdf59-42bb-49ae-93ae-c7ce2fe737b7"
      },
      "execution_count": 3,
      "outputs": [
        {
          "output_type": "stream",
          "name": "stdout",
          "text": [
            "Downloading 14-indonesian-wayang-types.zip to /content\n",
            " 33% 9.00M/27.3M [00:01<00:03, 5.28MB/s]\n",
            "100% 27.3M/27.3M [00:01<00:00, 16.8MB/s]\n"
          ]
        }
      ]
    },
    {
      "cell_type": "markdown",
      "source": [
        "Unzip the .zip file so we can see the DATASET folders. There are few version of the dataset since we experiment with different amount of Batik motives."
      ],
      "metadata": {
        "id": "YE1S2_xK-8WM"
      }
    },
    {
      "cell_type": "code",
      "source": [
        "!unzip -qq /content/14-indonesian-wayang-types"
      ],
      "metadata": {
        "id": "f6Uc6nM3-881"
      },
      "execution_count": 4,
      "outputs": []
    },
    {
      "cell_type": "markdown",
      "source": [
        "# **Import All Dependencies**"
      ],
      "metadata": {
        "id": "JoQUKEYR_HSY"
      }
    },
    {
      "cell_type": "code",
      "source": [
        "from tensorflow.keras import Sequential, regularizers\n",
        "from tensorflow.keras.layers import Dense, Dropout, BatchNormalization\n",
        "from tensorflow.keras.optimizers import Adam\n",
        "from tensorflow.keras.preprocessing.image import ImageDataGenerator, img_to_array, load_img\n",
        "from tensorflow.keras.backend import clear_session\n",
        "from tensorflow.keras.callbacks import TensorBoard\n",
        "from tensorflow.keras.applications import MobileNetV2\n",
        "from tensorflow.keras.models import load_model\n",
        "import tensorflow as tf\n",
        "import matplotlib.pyplot as plt\n",
        "import matplotlib\n",
        "matplotlib.style.use('ggplot')\n",
        "import numpy as np\n",
        "import os"
      ],
      "metadata": {
        "id": "sPtRdJL5_MjB"
      },
      "execution_count": 5,
      "outputs": []
    },
    {
      "cell_type": "code",
      "source": [
        "cwd = os.getcwd()\n",
        "IMAGE_SHAPE = (160, 160)\n",
        "TRAINING_DATA_DIR = os.path.join(cwd,\"DATASET\",\"TRAIN\")\n",
        "VALID_DATA_DIR = os.path.join(cwd,\"DATASET\",\"TEST\")"
      ],
      "metadata": {
        "id": "33OAOrxK_bF4"
      },
      "execution_count": 72,
      "outputs": []
    },
    {
      "cell_type": "code",
      "source": [
        "datagen = tf.keras.preprocessing.image.ImageDataGenerator(rescale=1./255)\n",
        "\n",
        "train_generator = datagen.flow_from_directory(\n",
        "    TRAINING_DATA_DIR,\n",
        "    shuffle=True,\n",
        "    target_size=IMAGE_SHAPE,\n",
        ")\n",
        "valid_generator = datagen.flow_from_directory(\n",
        "    VALID_DATA_DIR,\n",
        "    shuffle=False,\n",
        "    target_size=IMAGE_SHAPE,\n",
        ")"
      ],
      "metadata": {
        "colab": {
          "base_uri": "https://localhost:8080/"
        },
        "id": "ffc3f0tU_rLt",
        "outputId": "3b8ec646-c4da-4648-a495-4d62b7c9671e"
      },
      "execution_count": 73,
      "outputs": [
        {
          "output_type": "stream",
          "name": "stdout",
          "text": [
            "Found 1120 images belonging to 14 classes.\n",
            "Found 280 images belonging to 14 classes.\n"
          ]
        }
      ]
    },
    {
      "cell_type": "code",
      "source": [
        "train_path = '/content/DATASET/TRAIN'\n",
        "test_path = '/content/DATASET/TEST'\n",
        "\n",
        "train_datagen = ImageDataGenerator(\n",
        "    rescale=1./255,\n",
        "    shear_range=0.2,\n",
        "    rotation_range=45,\n",
        "    fill_mode='reflect',\n",
        "    zoom_range=0.2,\n",
        "    brightness_range=[0.8, 1.2],\n",
        "    width_shift_range=0.2,\n",
        "    height_shift_range=0.2,\n",
        "    horizontal_flip=True,\n",
        "    vertical_flip=True\n",
        ")\n",
        "\n",
        "validation_datagen = ImageDataGenerator(rescale=1./255)\n",
        "\n",
        "train_generator = train_datagen.flow_from_directory(\n",
        "    directory=train_path,\n",
        "    target_size=IMAGE_SHAPE,\n",
        "    class_mode='categorical',\n",
        "    batch_size=20,\n",
        "    color_mode='rgb'\n",
        ")\n",
        "\n",
        "validation_generator = validation_datagen.flow_from_directory(\n",
        "    directory=test_path,\n",
        "    target_size=IMAGE_SHAPE,\n",
        "    class_mode='categorical',\n",
        "    batch_size=20,\n",
        "    color_mode='rgb'\n",
        ")\n",
        "\n",
        "types_dict = train_generator.class_indices\n",
        "print(types_dict)"
      ],
      "metadata": {
        "colab": {
          "base_uri": "https://localhost:8080/"
        },
        "id": "KpJVlC68_skS",
        "outputId": "374d4822-1e6e-4af4-8ca1-803faeef0a83"
      },
      "execution_count": 74,
      "outputs": [
        {
          "output_type": "stream",
          "name": "stdout",
          "text": [
            "Found 1120 images belonging to 14 classes.\n",
            "Found 280 images belonging to 14 classes.\n",
            "{'Abimanyu': 0, 'Antasena': 1, 'Arjuna': 2, 'Bagong': 3, 'Bima': 4, 'Cepot': 5, 'Gareng': 6, 'Gatot Kaca': 7, 'Hanoman': 8, 'Kresna': 9, 'Nakula': 10, 'Petruk': 11, 'Semar': 12, 'Yudhistira': 13}\n"
          ]
        }
      ]
    },
    {
      "cell_type": "code",
      "source": [
        "#base model MobileNetV2\n",
        "from tensorflow.keras.applications import MobileNetV2\n",
        "\n",
        "base_model = MobileNetV2(\n",
        "    include_top=False,\n",
        "    weights='imagenet',\n",
        "    input_shape=(IMAGE_SHAPE[0], IMAGE_SHAPE[1], 3),\n",
        "    pooling='max'\n",
        ")\n",
        "\n",
        "base_model.trainable = True"
      ],
      "metadata": {
        "colab": {
          "base_uri": "https://localhost:8080/"
        },
        "id": "4AkyiXvO_7CD",
        "outputId": "43cdde99-411b-4c1a-a0a7-bc31dd989e65"
      },
      "execution_count": 75,
      "outputs": [
        {
          "output_type": "stream",
          "name": "stdout",
          "text": [
            "Downloading data from https://storage.googleapis.com/tensorflow/keras-applications/mobilenet_v2/mobilenet_v2_weights_tf_dim_ordering_tf_kernels_1.0_160_no_top.h5\n",
            "9412608/9406464 [==============================] - 0s 0us/step\n",
            "9420800/9406464 [==============================] - 0s 0us/step\n"
          ]
        }
      ]
    },
    {
      "cell_type": "code",
      "source": [
        "#base model VGG16 (untuk saat ini jelek)\n",
        "\n",
        "#from tensorflow.keras.applications.vgg16 import VGG16\n",
        "\n",
        "#base_model = VGG16(\n",
        "#    include_top=False,\n",
        "#    weights='imagenet',\n",
        "#    input_shape=(224, 224, 3),\n",
        "#    pooling='avg'\n",
        "#)"
      ],
      "metadata": {
        "id": "8S4fszdK__f2"
      },
      "execution_count": 76,
      "outputs": []
    },
    {
      "cell_type": "code",
      "source": [
        "def scheduler(epoch, lr):\n",
        "  if epoch <= 50:\n",
        "    return lr\n",
        "  else:\n",
        "    return lr * tf.math.exp(-0.2)\n",
        "\n",
        "lr_callback = tf.keras.callbacks.LearningRateScheduler(scheduler)"
      ],
      "metadata": {
        "id": "yQNC4PYc__8q"
      },
      "execution_count": 77,
      "outputs": []
    },
    {
      "cell_type": "code",
      "source": [
        "EPOCHS = 100\n",
        "LEARNING_RATE = 1e-4\n",
        "TRAIN_STEP = 700//20\n",
        "VAL_STEP = 200//20"
      ],
      "metadata": {
        "id": "kSGnqWI_AD2B"
      },
      "execution_count": 78,
      "outputs": []
    },
    {
      "cell_type": "markdown",
      "source": [
        "Loop Starts here :"
      ],
      "metadata": {
        "id": "p93kIWYpXEQ6"
      }
    },
    {
      "cell_type": "code",
      "source": [
        "clear_session()\n",
        "\n",
        "model = Sequential([\n",
        "    base_model,\n",
        "    Dense(512, activation='relu',\n",
        "          kernel_regularizer=regularizers.l1_l2(l1=1e-5, l2=1e-4)\n",
        "    ),\n",
        "    Dropout(0.3),\n",
        "    Dense(14, activation='softmax')\n",
        "])\n",
        "\n",
        "model.compile(\n",
        "    optimizer=Adam(learning_rate=LEARNING_RATE),\n",
        "    loss='categorical_crossentropy',\n",
        "    metrics=['accuracy'],\n",
        ")"
      ],
      "metadata": {
        "id": "A1SXdPztAF8p"
      },
      "execution_count": 100,
      "outputs": []
    },
    {
      "cell_type": "code",
      "source": [
        "model.summary()"
      ],
      "metadata": {
        "colab": {
          "base_uri": "https://localhost:8080/"
        },
        "id": "7QN6T1FPAIG3",
        "outputId": "b8c53f2e-bb73-4af8-f4fc-a003e6ce3e26"
      },
      "execution_count": 101,
      "outputs": [
        {
          "output_type": "stream",
          "name": "stdout",
          "text": [
            "Model: \"sequential\"\n",
            "_________________________________________________________________\n",
            " Layer (type)                Output Shape              Param #   \n",
            "=================================================================\n",
            " mobilenetv2_1.00_160 (Funct  (None, 1280)             2257984   \n",
            " ional)                                                          \n",
            "                                                                 \n",
            " dense (Dense)               (None, 512)               655872    \n",
            "                                                                 \n",
            " dropout (Dropout)           (None, 512)               0         \n",
            "                                                                 \n",
            " dense_1 (Dense)             (None, 14)                7182      \n",
            "                                                                 \n",
            "=================================================================\n",
            "Total params: 2,921,038\n",
            "Trainable params: 2,886,926\n",
            "Non-trainable params: 34,112\n",
            "_________________________________________________________________\n"
          ]
        }
      ]
    },
    {
      "cell_type": "code",
      "source": [
        "chckp = tf.keras.callbacks.ModelCheckpoint(\"./model_best.h5\", monitor='val_accuracy', mode='max', save_best_only=True )\n",
        "\n",
        "history = model.fit(\n",
        "    train_generator,\n",
        "    validation_data=validation_generator,\n",
        "    steps_per_epoch=TRAIN_STEP,\n",
        "    validation_steps=VAL_STEP,\n",
        "    shuffle=True,\n",
        "    epochs=EPOCHS,\n",
        "    callbacks=[lr_callback, chckp]\n",
        ")"
      ],
      "metadata": {
        "colab": {
          "base_uri": "https://localhost:8080/"
        },
        "id": "RscCo3dHAKcK",
        "outputId": "49bf4274-197b-4e67-9cfb-93c189411295"
      },
      "execution_count": 102,
      "outputs": [
        {
          "output_type": "stream",
          "name": "stdout",
          "text": [
            "Epoch 1/100\n",
            "35/35 [==============================] - 14s 230ms/step - loss: 2.5157 - accuracy: 0.4614 - val_loss: 1.1277 - val_accuracy: 0.7550 - lr: 1.0000e-04\n",
            "Epoch 2/100\n",
            "35/35 [==============================] - 7s 203ms/step - loss: 0.8103 - accuracy: 0.8171 - val_loss: 1.0273 - val_accuracy: 0.8050 - lr: 1.0000e-04\n",
            "Epoch 3/100\n",
            "35/35 [==============================] - 7s 188ms/step - loss: 0.6119 - accuracy: 0.8914 - val_loss: 1.1074 - val_accuracy: 0.7950 - lr: 1.0000e-04\n",
            "Epoch 4/100\n",
            "35/35 [==============================] - 7s 188ms/step - loss: 0.5900 - accuracy: 0.8829 - val_loss: 1.0882 - val_accuracy: 0.8000 - lr: 1.0000e-04\n",
            "Epoch 5/100\n",
            "35/35 [==============================] - 7s 202ms/step - loss: 0.5541 - accuracy: 0.9143 - val_loss: 0.9379 - val_accuracy: 0.8300 - lr: 1.0000e-04\n",
            "Epoch 6/100\n",
            "35/35 [==============================] - 7s 188ms/step - loss: 0.4859 - accuracy: 0.9300 - val_loss: 1.1991 - val_accuracy: 0.8150 - lr: 1.0000e-04\n",
            "Epoch 7/100\n",
            "35/35 [==============================] - 7s 195ms/step - loss: 0.5363 - accuracy: 0.9314 - val_loss: 1.0607 - val_accuracy: 0.7850 - lr: 1.0000e-04\n",
            "Epoch 8/100\n",
            "35/35 [==============================] - 7s 193ms/step - loss: 0.4940 - accuracy: 0.9257 - val_loss: 1.1000 - val_accuracy: 0.8300 - lr: 1.0000e-04\n",
            "Epoch 9/100\n",
            "35/35 [==============================] - 7s 189ms/step - loss: 0.5281 - accuracy: 0.9186 - val_loss: 1.0796 - val_accuracy: 0.8200 - lr: 1.0000e-04\n",
            "Epoch 10/100\n",
            "35/35 [==============================] - 7s 201ms/step - loss: 0.5380 - accuracy: 0.9200 - val_loss: 0.9896 - val_accuracy: 0.8450 - lr: 1.0000e-04\n",
            "Epoch 11/100\n",
            "35/35 [==============================] - 7s 188ms/step - loss: 0.5092 - accuracy: 0.9214 - val_loss: 1.0546 - val_accuracy: 0.8300 - lr: 1.0000e-04\n",
            "Epoch 12/100\n",
            "35/35 [==============================] - 7s 190ms/step - loss: 0.4841 - accuracy: 0.9314 - val_loss: 0.9528 - val_accuracy: 0.8450 - lr: 1.0000e-04\n",
            "Epoch 13/100\n",
            "35/35 [==============================] - 7s 190ms/step - loss: 0.4765 - accuracy: 0.9400 - val_loss: 0.8763 - val_accuracy: 0.8450 - lr: 1.0000e-04\n",
            "Epoch 14/100\n",
            "35/35 [==============================] - 7s 191ms/step - loss: 0.4696 - accuracy: 0.9229 - val_loss: 1.0358 - val_accuracy: 0.8300 - lr: 1.0000e-04\n",
            "Epoch 15/100\n",
            "35/35 [==============================] - 7s 188ms/step - loss: 0.4326 - accuracy: 0.9486 - val_loss: 1.2371 - val_accuracy: 0.7850 - lr: 1.0000e-04\n",
            "Epoch 16/100\n",
            "35/35 [==============================] - 7s 191ms/step - loss: 0.4413 - accuracy: 0.9443 - val_loss: 1.1124 - val_accuracy: 0.7800 - lr: 1.0000e-04\n",
            "Epoch 17/100\n",
            "35/35 [==============================] - 7s 189ms/step - loss: 0.4642 - accuracy: 0.9314 - val_loss: 1.3316 - val_accuracy: 0.7500 - lr: 1.0000e-04\n",
            "Epoch 18/100\n",
            "35/35 [==============================] - 7s 189ms/step - loss: 0.4323 - accuracy: 0.9457 - val_loss: 1.1926 - val_accuracy: 0.7900 - lr: 1.0000e-04\n",
            "Epoch 19/100\n",
            "35/35 [==============================] - 7s 188ms/step - loss: 0.4171 - accuracy: 0.9443 - val_loss: 1.2530 - val_accuracy: 0.7750 - lr: 1.0000e-04\n",
            "Epoch 20/100\n",
            "35/35 [==============================] - 7s 186ms/step - loss: 0.4398 - accuracy: 0.9314 - val_loss: 1.3530 - val_accuracy: 0.7850 - lr: 1.0000e-04\n",
            "Epoch 21/100\n",
            "35/35 [==============================] - 7s 186ms/step - loss: 0.4556 - accuracy: 0.9343 - val_loss: 1.0227 - val_accuracy: 0.8150 - lr: 1.0000e-04\n",
            "Epoch 22/100\n",
            "35/35 [==============================] - 7s 187ms/step - loss: 0.4677 - accuracy: 0.9286 - val_loss: 1.0404 - val_accuracy: 0.8050 - lr: 1.0000e-04\n",
            "Epoch 23/100\n",
            "35/35 [==============================] - 7s 196ms/step - loss: 0.4163 - accuracy: 0.9543 - val_loss: 1.3909 - val_accuracy: 0.7600 - lr: 1.0000e-04\n",
            "Epoch 24/100\n",
            "35/35 [==============================] - 7s 187ms/step - loss: 0.4026 - accuracy: 0.9514 - val_loss: 1.1980 - val_accuracy: 0.7900 - lr: 1.0000e-04\n",
            "Epoch 25/100\n",
            "35/35 [==============================] - 7s 187ms/step - loss: 0.4880 - accuracy: 0.9300 - val_loss: 1.2129 - val_accuracy: 0.7600 - lr: 1.0000e-04\n",
            "Epoch 26/100\n",
            "35/35 [==============================] - 7s 189ms/step - loss: 0.4710 - accuracy: 0.9486 - val_loss: 1.2562 - val_accuracy: 0.7900 - lr: 1.0000e-04\n",
            "Epoch 27/100\n",
            "35/35 [==============================] - 7s 188ms/step - loss: 0.4268 - accuracy: 0.9486 - val_loss: 1.2475 - val_accuracy: 0.7950 - lr: 1.0000e-04\n",
            "Epoch 28/100\n",
            "35/35 [==============================] - 7s 187ms/step - loss: 0.4451 - accuracy: 0.9457 - val_loss: 1.1665 - val_accuracy: 0.7650 - lr: 1.0000e-04\n",
            "Epoch 29/100\n",
            "35/35 [==============================] - 7s 191ms/step - loss: 0.4147 - accuracy: 0.9486 - val_loss: 1.1765 - val_accuracy: 0.8000 - lr: 1.0000e-04\n",
            "Epoch 30/100\n",
            "35/35 [==============================] - 7s 187ms/step - loss: 0.4112 - accuracy: 0.9529 - val_loss: 1.1231 - val_accuracy: 0.8200 - lr: 1.0000e-04\n",
            "Epoch 31/100\n",
            "35/35 [==============================] - 7s 192ms/step - loss: 0.3795 - accuracy: 0.9614 - val_loss: 1.0677 - val_accuracy: 0.7950 - lr: 1.0000e-04\n",
            "Epoch 32/100\n",
            "35/35 [==============================] - 7s 187ms/step - loss: 0.3899 - accuracy: 0.9571 - val_loss: 0.9080 - val_accuracy: 0.8300 - lr: 1.0000e-04\n",
            "Epoch 33/100\n",
            "35/35 [==============================] - 7s 202ms/step - loss: 0.3995 - accuracy: 0.9557 - val_loss: 0.8829 - val_accuracy: 0.8500 - lr: 1.0000e-04\n",
            "Epoch 34/100\n",
            "35/35 [==============================] - 7s 189ms/step - loss: 0.4254 - accuracy: 0.9486 - val_loss: 1.2519 - val_accuracy: 0.7800 - lr: 1.0000e-04\n",
            "Epoch 35/100\n",
            "35/35 [==============================] - 7s 187ms/step - loss: 0.3981 - accuracy: 0.9486 - val_loss: 1.1578 - val_accuracy: 0.7750 - lr: 1.0000e-04\n",
            "Epoch 36/100\n",
            "35/35 [==============================] - 6s 185ms/step - loss: 0.4075 - accuracy: 0.9486 - val_loss: 1.0918 - val_accuracy: 0.7950 - lr: 1.0000e-04\n",
            "Epoch 37/100\n",
            "35/35 [==============================] - 7s 187ms/step - loss: 0.3916 - accuracy: 0.9657 - val_loss: 1.0904 - val_accuracy: 0.8350 - lr: 1.0000e-04\n",
            "Epoch 38/100\n",
            "35/35 [==============================] - 7s 185ms/step - loss: 0.3872 - accuracy: 0.9557 - val_loss: 1.0443 - val_accuracy: 0.8300 - lr: 1.0000e-04\n",
            "Epoch 39/100\n",
            "35/35 [==============================] - 7s 190ms/step - loss: 0.4046 - accuracy: 0.9586 - val_loss: 1.2668 - val_accuracy: 0.7850 - lr: 1.0000e-04\n",
            "Epoch 40/100\n",
            "35/35 [==============================] - 7s 187ms/step - loss: 0.3777 - accuracy: 0.9571 - val_loss: 1.2147 - val_accuracy: 0.8150 - lr: 1.0000e-04\n",
            "Epoch 41/100\n",
            "35/35 [==============================] - 7s 194ms/step - loss: 0.3998 - accuracy: 0.9571 - val_loss: 1.3286 - val_accuracy: 0.7800 - lr: 1.0000e-04\n",
            "Epoch 42/100\n",
            "35/35 [==============================] - 7s 185ms/step - loss: 0.3867 - accuracy: 0.9543 - val_loss: 1.2310 - val_accuracy: 0.7900 - lr: 1.0000e-04\n",
            "Epoch 43/100\n",
            "35/35 [==============================] - 7s 187ms/step - loss: 0.3775 - accuracy: 0.9614 - val_loss: 1.2212 - val_accuracy: 0.7900 - lr: 1.0000e-04\n",
            "Epoch 44/100\n",
            "35/35 [==============================] - 7s 186ms/step - loss: 0.3620 - accuracy: 0.9686 - val_loss: 1.2466 - val_accuracy: 0.8050 - lr: 1.0000e-04\n",
            "Epoch 45/100\n",
            "35/35 [==============================] - 7s 185ms/step - loss: 0.4139 - accuracy: 0.9500 - val_loss: 1.0731 - val_accuracy: 0.8150 - lr: 1.0000e-04\n",
            "Epoch 46/100\n",
            "35/35 [==============================] - 7s 187ms/step - loss: 0.4200 - accuracy: 0.9586 - val_loss: 1.2896 - val_accuracy: 0.8000 - lr: 1.0000e-04\n",
            "Epoch 47/100\n",
            "35/35 [==============================] - 7s 190ms/step - loss: 0.3767 - accuracy: 0.9571 - val_loss: 0.9482 - val_accuracy: 0.8350 - lr: 1.0000e-04\n",
            "Epoch 48/100\n",
            "35/35 [==============================] - 7s 187ms/step - loss: 0.4043 - accuracy: 0.9500 - val_loss: 1.0781 - val_accuracy: 0.8200 - lr: 1.0000e-04\n",
            "Epoch 49/100\n",
            "35/35 [==============================] - 7s 188ms/step - loss: 0.4033 - accuracy: 0.9457 - val_loss: 1.2176 - val_accuracy: 0.8300 - lr: 1.0000e-04\n",
            "Epoch 50/100\n",
            "35/35 [==============================] - 7s 190ms/step - loss: 0.4537 - accuracy: 0.9443 - val_loss: 1.2570 - val_accuracy: 0.7800 - lr: 1.0000e-04\n",
            "Epoch 51/100\n",
            "35/35 [==============================] - 7s 187ms/step - loss: 0.3737 - accuracy: 0.9543 - val_loss: 1.2612 - val_accuracy: 0.7950 - lr: 1.0000e-04\n",
            "Epoch 52/100\n",
            "35/35 [==============================] - 7s 189ms/step - loss: 0.3912 - accuracy: 0.9571 - val_loss: 0.9888 - val_accuracy: 0.8500 - lr: 8.1873e-05\n",
            "Epoch 53/100\n",
            "35/35 [==============================] - 7s 188ms/step - loss: 0.3544 - accuracy: 0.9729 - val_loss: 1.0064 - val_accuracy: 0.8350 - lr: 6.7032e-05\n",
            "Epoch 54/100\n",
            "35/35 [==============================] - 7s 186ms/step - loss: 0.3872 - accuracy: 0.9543 - val_loss: 1.1036 - val_accuracy: 0.8300 - lr: 5.4881e-05\n",
            "Epoch 55/100\n",
            "35/35 [==============================] - 7s 194ms/step - loss: 0.3567 - accuracy: 0.9614 - val_loss: 0.8772 - val_accuracy: 0.8450 - lr: 4.4933e-05\n",
            "Epoch 56/100\n",
            "35/35 [==============================] - 7s 188ms/step - loss: 0.3308 - accuracy: 0.9771 - val_loss: 0.9926 - val_accuracy: 0.8500 - lr: 3.6788e-05\n",
            "Epoch 57/100\n",
            "35/35 [==============================] - 7s 186ms/step - loss: 0.3199 - accuracy: 0.9786 - val_loss: 1.0695 - val_accuracy: 0.8400 - lr: 3.0119e-05\n",
            "Epoch 58/100\n",
            "35/35 [==============================] - 7s 184ms/step - loss: 0.3330 - accuracy: 0.9771 - val_loss: 1.0530 - val_accuracy: 0.8450 - lr: 2.4660e-05\n",
            "Epoch 59/100\n",
            "35/35 [==============================] - 7s 187ms/step - loss: 0.3092 - accuracy: 0.9814 - val_loss: 0.9958 - val_accuracy: 0.8500 - lr: 2.0190e-05\n",
            "Epoch 60/100\n",
            "35/35 [==============================] - 7s 187ms/step - loss: 0.3078 - accuracy: 0.9800 - val_loss: 1.0276 - val_accuracy: 0.8300 - lr: 1.6530e-05\n",
            "Epoch 61/100\n",
            "35/35 [==============================] - 7s 187ms/step - loss: 0.3306 - accuracy: 0.9729 - val_loss: 0.8986 - val_accuracy: 0.8500 - lr: 1.3534e-05\n",
            "Epoch 62/100\n",
            "35/35 [==============================] - 7s 187ms/step - loss: 0.3083 - accuracy: 0.9800 - val_loss: 1.0979 - val_accuracy: 0.8250 - lr: 1.1080e-05\n",
            "Epoch 63/100\n",
            "35/35 [==============================] - 7s 187ms/step - loss: 0.3325 - accuracy: 0.9714 - val_loss: 1.0757 - val_accuracy: 0.8450 - lr: 9.0718e-06\n",
            "Epoch 64/100\n",
            "35/35 [==============================] - 7s 201ms/step - loss: 0.3282 - accuracy: 0.9714 - val_loss: 1.0157 - val_accuracy: 0.8550 - lr: 7.4274e-06\n",
            "Epoch 65/100\n",
            "35/35 [==============================] - 7s 194ms/step - loss: 0.3243 - accuracy: 0.9771 - val_loss: 1.1646 - val_accuracy: 0.8450 - lr: 6.0810e-06\n",
            "Epoch 66/100\n",
            "35/35 [==============================] - 7s 190ms/step - loss: 0.3122 - accuracy: 0.9814 - val_loss: 1.1641 - val_accuracy: 0.8150 - lr: 4.9787e-06\n",
            "Epoch 67/100\n",
            "35/35 [==============================] - 7s 186ms/step - loss: 0.3087 - accuracy: 0.9843 - val_loss: 1.2011 - val_accuracy: 0.8350 - lr: 4.0762e-06\n",
            "Epoch 68/100\n",
            "35/35 [==============================] - 7s 186ms/step - loss: 0.3115 - accuracy: 0.9743 - val_loss: 1.1128 - val_accuracy: 0.8300 - lr: 3.3373e-06\n",
            "Epoch 69/100\n",
            "35/35 [==============================] - 7s 201ms/step - loss: 0.3037 - accuracy: 0.9814 - val_loss: 0.9918 - val_accuracy: 0.8700 - lr: 2.7324e-06\n",
            "Epoch 70/100\n",
            "35/35 [==============================] - 7s 187ms/step - loss: 0.3067 - accuracy: 0.9843 - val_loss: 1.1746 - val_accuracy: 0.8100 - lr: 2.2371e-06\n",
            "Epoch 71/100\n",
            "35/35 [==============================] - 7s 187ms/step - loss: 0.3655 - accuracy: 0.9614 - val_loss: 0.9658 - val_accuracy: 0.8500 - lr: 1.8316e-06\n",
            "Epoch 72/100\n",
            "35/35 [==============================] - 7s 200ms/step - loss: 0.3149 - accuracy: 0.9771 - val_loss: 0.8283 - val_accuracy: 0.8750 - lr: 1.4996e-06\n",
            "Epoch 73/100\n",
            "35/35 [==============================] - 7s 195ms/step - loss: 0.3277 - accuracy: 0.9771 - val_loss: 1.0207 - val_accuracy: 0.8550 - lr: 1.2277e-06\n",
            "Epoch 74/100\n",
            "35/35 [==============================] - 7s 188ms/step - loss: 0.3321 - accuracy: 0.9786 - val_loss: 1.1669 - val_accuracy: 0.8350 - lr: 1.0052e-06\n",
            "Epoch 75/100\n",
            "35/35 [==============================] - 7s 189ms/step - loss: 0.3154 - accuracy: 0.9800 - val_loss: 1.1774 - val_accuracy: 0.8400 - lr: 8.2298e-07\n",
            "Epoch 76/100\n",
            "35/35 [==============================] - 7s 187ms/step - loss: 0.3131 - accuracy: 0.9771 - val_loss: 1.1478 - val_accuracy: 0.8350 - lr: 6.7380e-07\n",
            "Epoch 77/100\n",
            "35/35 [==============================] - 7s 189ms/step - loss: 0.3106 - accuracy: 0.9814 - val_loss: 1.0798 - val_accuracy: 0.8600 - lr: 5.5166e-07\n",
            "Epoch 78/100\n",
            "35/35 [==============================] - 7s 186ms/step - loss: 0.2971 - accuracy: 0.9814 - val_loss: 1.0189 - val_accuracy: 0.8400 - lr: 4.5166e-07\n",
            "Epoch 79/100\n",
            "35/35 [==============================] - 7s 193ms/step - loss: 0.3347 - accuracy: 0.9757 - val_loss: 1.2198 - val_accuracy: 0.8450 - lr: 3.6979e-07\n",
            "Epoch 80/100\n",
            "35/35 [==============================] - 7s 193ms/step - loss: 0.3066 - accuracy: 0.9786 - val_loss: 1.1454 - val_accuracy: 0.8450 - lr: 3.0276e-07\n",
            "Epoch 81/100\n",
            "35/35 [==============================] - 7s 185ms/step - loss: 0.3044 - accuracy: 0.9786 - val_loss: 1.0280 - val_accuracy: 0.8550 - lr: 2.4788e-07\n",
            "Epoch 82/100\n",
            "35/35 [==============================] - 7s 188ms/step - loss: 0.3373 - accuracy: 0.9657 - val_loss: 0.9931 - val_accuracy: 0.8550 - lr: 2.0294e-07\n",
            "Epoch 83/100\n",
            "35/35 [==============================] - 7s 189ms/step - loss: 0.3225 - accuracy: 0.9757 - val_loss: 1.0638 - val_accuracy: 0.8600 - lr: 1.6616e-07\n",
            "Epoch 84/100\n",
            "35/35 [==============================] - 7s 184ms/step - loss: 0.3096 - accuracy: 0.9814 - val_loss: 1.0016 - val_accuracy: 0.8550 - lr: 1.3604e-07\n",
            "Epoch 85/100\n",
            "35/35 [==============================] - 7s 185ms/step - loss: 0.3069 - accuracy: 0.9843 - val_loss: 0.9528 - val_accuracy: 0.8600 - lr: 1.1138e-07\n",
            "Epoch 86/100\n",
            "35/35 [==============================] - 7s 187ms/step - loss: 0.3135 - accuracy: 0.9786 - val_loss: 1.0158 - val_accuracy: 0.8500 - lr: 9.1188e-08\n",
            "Epoch 87/100\n",
            "35/35 [==============================] - 7s 190ms/step - loss: 0.3225 - accuracy: 0.9757 - val_loss: 1.1147 - val_accuracy: 0.8450 - lr: 7.4659e-08\n",
            "Epoch 88/100\n",
            "35/35 [==============================] - 7s 188ms/step - loss: 0.3204 - accuracy: 0.9771 - val_loss: 1.0071 - val_accuracy: 0.8600 - lr: 6.1125e-08\n",
            "Epoch 89/100\n",
            "35/35 [==============================] - 7s 187ms/step - loss: 0.3140 - accuracy: 0.9743 - val_loss: 0.9981 - val_accuracy: 0.8500 - lr: 5.0045e-08\n",
            "Epoch 90/100\n",
            "35/35 [==============================] - 7s 185ms/step - loss: 0.2910 - accuracy: 0.9843 - val_loss: 0.9222 - val_accuracy: 0.8650 - lr: 4.0974e-08\n",
            "Epoch 91/100\n",
            "35/35 [==============================] - 7s 187ms/step - loss: 0.3219 - accuracy: 0.9771 - val_loss: 1.0634 - val_accuracy: 0.8500 - lr: 3.3546e-08\n",
            "Epoch 92/100\n",
            "35/35 [==============================] - 6s 185ms/step - loss: 0.3205 - accuracy: 0.9729 - val_loss: 1.0653 - val_accuracy: 0.8500 - lr: 2.7465e-08\n",
            "Epoch 93/100\n",
            "35/35 [==============================] - 7s 189ms/step - loss: 0.3428 - accuracy: 0.9743 - val_loss: 1.0419 - val_accuracy: 0.8400 - lr: 2.2487e-08\n",
            "Epoch 94/100\n",
            "35/35 [==============================] - 7s 186ms/step - loss: 0.3144 - accuracy: 0.9743 - val_loss: 0.9818 - val_accuracy: 0.8450 - lr: 1.8411e-08\n",
            "Epoch 95/100\n",
            "35/35 [==============================] - 7s 186ms/step - loss: 0.3273 - accuracy: 0.9729 - val_loss: 1.0313 - val_accuracy: 0.8400 - lr: 1.5073e-08\n",
            "Epoch 96/100\n",
            "35/35 [==============================] - 7s 186ms/step - loss: 0.2992 - accuracy: 0.9800 - val_loss: 0.9355 - val_accuracy: 0.8600 - lr: 1.2341e-08\n",
            "Epoch 97/100\n",
            "35/35 [==============================] - 7s 186ms/step - loss: 0.3156 - accuracy: 0.9786 - val_loss: 0.9874 - val_accuracy: 0.8550 - lr: 1.0104e-08\n",
            "Epoch 98/100\n",
            "35/35 [==============================] - 7s 189ms/step - loss: 0.3055 - accuracy: 0.9786 - val_loss: 1.1571 - val_accuracy: 0.8350 - lr: 8.2724e-09\n",
            "Epoch 99/100\n",
            "35/35 [==============================] - 7s 190ms/step - loss: 0.3439 - accuracy: 0.9686 - val_loss: 1.0007 - val_accuracy: 0.8500 - lr: 6.7729e-09\n",
            "Epoch 100/100\n",
            "35/35 [==============================] - 7s 189ms/step - loss: 0.3372 - accuracy: 0.9743 - val_loss: 1.0474 - val_accuracy: 0.8600 - lr: 5.5452e-09\n"
          ]
        }
      ]
    },
    {
      "cell_type": "code",
      "source": [
        "train_accuracy = history.history['accuracy']\n",
        "val_accuracy = history.history['val_accuracy']\n",
        "train_loss = history.history['loss']\n",
        "val_loss= history.history['val_loss']\n",
        "\n",
        "plt.figure(figsize=(16, 8))\n",
        "\n",
        "# Cek hasil akurasi\n",
        "plt.subplot(1, 2, 1)\n",
        "plt.plot(train_accuracy, label='Training Accuracy', color='#185fad')\n",
        "plt.plot(val_accuracy, label='Validation Accuracy', color='orange')\n",
        "\n",
        "plt.title('Training and Validation Accuracy by Epoch', fontsize = 18)\n",
        "plt.xlabel('Epoch', fontsize = 18)\n",
        "plt.ylabel('Mean-Square-Error', fontsize = 18)\n",
        "plt.xticks(range(0,16,20), range(0,16,20))\n",
        "\n",
        "plt.legend(fontsize = 18);\n",
        "\n",
        "plt.subplot(1, 2, 2)\n",
        "plt.plot(train_loss, label='Training Loss', color='#185fad')\n",
        "plt.plot(val_loss, label='Validation Loss', color='orange')\n",
        "\n",
        "plt.title('Training and Validation Loss by Epoch', fontsize = 18)\n",
        "plt.xlabel('Epoch', fontsize = 18)\n",
        "plt.ylabel('Mean-Square-Error', fontsize = 18)\n",
        "plt.xticks(range(0,16,20), range(0,16,20))\n",
        "\n",
        "\n",
        "plt.legend(fontsize = 18)"
      ],
      "metadata": {
        "colab": {
          "base_uri": "https://localhost:8080/",
          "height": 542
        },
        "id": "VyJ-5JP0ALWZ",
        "outputId": "01c22c13-0ecd-406a-d9bb-e568e98b3204"
      },
      "execution_count": 103,
      "outputs": [
        {
          "output_type": "execute_result",
          "data": {
            "text/plain": [
              "<matplotlib.legend.Legend at 0x7f95dcb97b90>"
            ]
          },
          "metadata": {},
          "execution_count": 103
        },
        {
          "output_type": "display_data",
          "data": {
            "text/plain": [
              "<Figure size 1152x576 with 2 Axes>"
            ],
            "image/png": "[encoded data removed]"
          },
          "metadata": {}
        }
      ]
    },
    {
      "cell_type": "code",
      "source": [
        "model.load_weights(\"./model_best.h5\")"
      ],
      "metadata": {
        "id": "_wacmqzhLIKh"
      },
      "execution_count": 104,
      "outputs": []
    },
    {
      "cell_type": "code",
      "source": [
        "validation_generator_2 = validation_datagen.flow_from_directory(\n",
        "    directory=test_path,\n",
        "    target_size=IMAGE_SHAPE,\n",
        "    class_mode='categorical',\n",
        "    batch_size = 256,\n",
        "    color_mode='rgb'\n",
        ")\n",
        "\n",
        "avg_loss = 0\n",
        "avg_accc = 0\n",
        "\n",
        "for x_test, y_test in validation_generator_2:\n",
        "  eval_result = model.evaluate(x_test,y_test)\n",
        "\n",
        "  if avg_loss == 0:\n",
        "    avg_loss = eval_result[0]\n",
        "  else:\n",
        "    avg_loss = (eval_result[0] + avg_loss) / 2\n",
        "\n",
        "  if avg_accc == 0:\n",
        "    avg_accc = eval_result[1]\n",
        "  else:\n",
        "    avg_accc = (eval_result[1] + avg_loss) / 2\n",
        "\n",
        "  if 1 >= len(x_test) / 256:\n",
        "    break\n",
        "\n",
        "print(\"Loss of the model is     -\" , avg_loss)\n",
        "print(\"Accuracy of the model is -\" , avg_accc*100 , \"%\")"
      ],
      "metadata": {
        "colab": {
          "base_uri": "https://localhost:8080/"
        },
        "id": "8m5DAq7aIZHR",
        "outputId": "191d5f5c-5f66-492b-84d9-59dd57baf426"
      },
      "execution_count": 105,
      "outputs": [
        {
          "output_type": "stream",
          "name": "stdout",
          "text": [
            "Found 280 images belonging to 14 classes.\n",
            "8/8 [==============================] - 1s 33ms/step - loss: 0.9214 - accuracy: 0.8594\n",
            "Loss of the model is     - 0.9213908314704895\n",
            "Accuracy of the model is - 85.9375 %\n"
          ]
        }
      ]
    },
    {
      "cell_type": "markdown",
      "source": [
        "# **Save The Model and Convert to .tflite**"
      ],
      "metadata": {
        "id": "xPnLYkzCASZl"
      }
    },
    {
      "cell_type": "code",
      "source": [
        "model_save_path = \"saved_model/15_motives\"\n",
        "tf.saved_model.save(model, model_save_path)\n",
        "\n",
        "# Convert the model\n",
        "converter = tf.lite.TFLiteConverter.from_saved_model(model_save_path) # path to the SavedModel directory\n",
        "tflite_model = converter.convert()\n",
        "\n",
        "# Save the model.\n",
        "os.makedirs('tflite_models', exist_ok=True)\n",
        "with open('tflite_models/wayang_types.tflite', 'wb') as f:\n",
        "  f.write(tflite_model)"
      ],
      "metadata": {
        "colab": {
          "base_uri": "https://localhost:8080/"
        },
        "id": "j1a09xQrAOFc",
        "outputId": "cc67c207-1d57-4362-8eaf-717a19c9f04f"
      },
      "execution_count": 106,
      "outputs": [
        {
          "output_type": "stream",
          "name": "stderr",
          "text": [
            "WARNING:absl:Function `_wrapped_model` contains input name(s) mobilenetv2_1.00_160_input with unsupported characters which will be renamed to mobilenetv2_1_00_160_input in the SavedModel.\n"
          ]
        },
        {
          "output_type": "stream",
          "name": "stdout",
          "text": [
            "INFO:tensorflow:Assets written to: saved_model/15_motives/assets\n"
          ]
        },
        {
          "output_type": "stream",
          "name": "stderr",
          "text": [
            "INFO:tensorflow:Assets written to: saved_model/15_motives/assets\n",
            "WARNING:absl:Buffer deduplication procedure will be skipped when flatbuffer library is not properly loaded\n"
          ]
        }
      ]
    },
    {
      "cell_type": "code",
      "source": [
        ""
      ],
      "metadata": {
        "id": "FfFRMiOeLOE-"
      },
      "execution_count": 106,
      "outputs": []
    }
  ]
}