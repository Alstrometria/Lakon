{
  "nbformat": 4,
  "nbformat_minor": 0,
  "metadata": {
    "colab": {
      "name": "Model.ipynb",
      "provenance": []
    },
    "kernelspec": {
      "name": "python3",
      "display_name": "Python 3"
    },
    "language_info": {
      "name": "python"
    },
    "accelerator": "GPU"
  },
  "cells": [
    {
      "cell_type": "markdown",
      "source": [
        "# **Download dataset from Kaggle**"
      ],
      "metadata": {
        "id": "X2gVQMZR9F3k"
      }
    },
    {
      "cell_type": "code",
      "execution_count": 2,
      "metadata": {
        "colab": {
          "resources": {
            "http://localhost:8080/nbextensions/google.colab/files.js": {
              "data": "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",
              "ok": true,
              "headers": [
                [
                  "content-type",
                  "application/javascript"
                ]
              ],
              "status": 200,
              "status_text": ""
            }
          },
          "base_uri": "https://localhost:8080/",
          "height": 90
        },
        "id": "Vty5NOL-9FL3",
        "outputId": "ee5685cb-9a9a-4c6d-9d36-f62d06674d1c"
      },
      "outputs": [
        {
          "output_type": "display_data",
          "data": {
            "text/plain": [
              "<IPython.core.display.HTML object>"
            ],
            "text/html": [
              "\n",
              "     <input type=\"file\" id=\"files-671b68bd-026f-4ad5-ad67-e1bae6f1c7ff\" name=\"files[]\" multiple disabled\n",
              "        style=\"border:none\" />\n",
              "     <output id=\"result-671b68bd-026f-4ad5-ad67-e1bae6f1c7ff\">\n",
              "      Upload widget is only available when the cell has been executed in the\n",
              "      current browser session. Please rerun this cell to enable.\n",
              "      </output>\n",
              "      <script src=\"/nbextensions/google.colab/files.js\"></script> "
            ]
          },
          "metadata": {}
        },
        {
          "output_type": "stream",
          "name": "stdout",
          "text": [
            "Saving kaggle.json to kaggle.json\n"
          ]
        },
        {
          "output_type": "execute_result",
          "data": {
            "text/plain": [
              "{'kaggle.json': b'{\"username\":\"immanuelmayerd\",\"key\":\"c0af11c2081e01520dcaa4c65a5076b8\"}'}"
            ]
          },
          "metadata": {},
          "execution_count": 2
        }
      ],
      "source": [
        "from google.colab import files\n",
        "files.upload()"
      ]
    },
    {
      "cell_type": "markdown",
      "source": [
        "Run this cell to install kaggle dependency, copy the file into ~/.kaggle/kaggle.json, and change file permissions to 600."
      ],
      "metadata": {
        "id": "Qw-Ee0RR-gcE"
      }
    },
    {
      "cell_type": "code",
      "source": [
        "!pip install -q kaggle\n",
        "!mkdir ~/.kaggle\n",
        "!cp kaggle.json ~/.kaggle/\n",
        "!chmod 600 ~/.kaggle/kaggle.json"
      ],
      "metadata": {
        "id": "2izO6el3-eC2"
      },
      "execution_count": 3,
      "outputs": []
    },
    {
      "cell_type": "markdown",
      "source": [
        "Download all the dataset using this command below."
      ],
      "metadata": {
        "id": "UAPL5thT-riR"
      }
    },
    {
      "cell_type": "code",
      "source": [
        "!kaggle datasets download -d immanuelmayerd/14-indonesian-wayang-types"
      ],
      "metadata": {
        "colab": {
          "base_uri": "https://localhost:8080/"
        },
        "id": "g2UZgzt7-sXo",
        "outputId": "42b98094-d61a-4f94-ac7e-b18fba364bc4"
      },
      "execution_count": 4,
      "outputs": [
        {
          "output_type": "stream",
          "name": "stdout",
          "text": [
            "Downloading 14-indonesian-wayang-types.zip to /content\n",
            " 92% 25.0M/27.3M [00:01<00:00, 23.2MB/s]\n",
            "100% 27.3M/27.3M [00:01<00:00, 22.4MB/s]\n"
          ]
        }
      ]
    },
    {
      "cell_type": "markdown",
      "source": [
        "Unzip the .zip file so we can see the DATASET folders. There are few version of the dataset since we experiment with different amount of Batik motives."
      ],
      "metadata": {
        "id": "YE1S2_xK-8WM"
      }
    },
    {
      "cell_type": "code",
      "source": [
        "!unzip -qq /content/14-indonesian-wayang-types"
      ],
      "metadata": {
        "id": "f6Uc6nM3-881"
      },
      "execution_count": 5,
      "outputs": []
    },
    {
      "cell_type": "markdown",
      "source": [
        "# **Import All Dependencies**"
      ],
      "metadata": {
        "id": "JoQUKEYR_HSY"
      }
    },
    {
      "cell_type": "code",
      "source": [
        "from tensorflow.keras import Sequential, regularizers\n",
        "from tensorflow.keras.layers import Dense, Dropout, BatchNormalization\n",
        "from tensorflow.keras.optimizers import Adam\n",
        "from tensorflow.keras.preprocessing.image import ImageDataGenerator, img_to_array, load_img\n",
        "from tensorflow.keras.backend import clear_session\n",
        "from tensorflow.keras.callbacks import TensorBoard\n",
        "from tensorflow.keras.applications import MobileNetV2\n",
        "from tensorflow.keras.models import load_model\n",
        "import tensorflow as tf\n",
        "import matplotlib.pyplot as plt\n",
        "import matplotlib\n",
        "matplotlib.style.use('ggplot')\n",
        "import numpy as np\n",
        "import os"
      ],
      "metadata": {
        "id": "sPtRdJL5_MjB"
      },
      "execution_count": 6,
      "outputs": []
    },
    {
      "cell_type": "code",
      "source": [
        "cwd = os.getcwd()\n",
        "IMAGE_SHAPE = (224, 224)\n",
        "TRAINING_DATA_DIR = os.path.join(cwd,\"DATASET\",\"TRAIN\")\n",
        "VALID_DATA_DIR = os.path.join(cwd,\"DATASET\",\"TEST\")"
      ],
      "metadata": {
        "id": "33OAOrxK_bF4"
      },
      "execution_count": 7,
      "outputs": []
    },
    {
      "cell_type": "code",
      "source": [
        "datagen = tf.keras.preprocessing.image.ImageDataGenerator(rescale=1./255)\n",
        "\n",
        "train_generator = datagen.flow_from_directory(\n",
        "    TRAINING_DATA_DIR,\n",
        "    shuffle=True,\n",
        "    target_size=IMAGE_SHAPE,\n",
        ")\n",
        "valid_generator = datagen.flow_from_directory(\n",
        "    VALID_DATA_DIR,\n",
        "    shuffle=False,\n",
        "    target_size=IMAGE_SHAPE,\n",
        ")"
      ],
      "metadata": {
        "colab": {
          "base_uri": "https://localhost:8080/"
        },
        "id": "ffc3f0tU_rLt",
        "outputId": "2c2c6ebd-488d-4e58-b6dd-e911db691a5c"
      },
      "execution_count": 8,
      "outputs": [
        {
          "output_type": "stream",
          "name": "stdout",
          "text": [
            "Found 1120 images belonging to 14 classes.\n",
            "Found 280 images belonging to 14 classes.\n"
          ]
        }
      ]
    },
    {
      "cell_type": "code",
      "source": [
        "train_path = '/content/DATASET/TRAIN'\n",
        "test_path = '/content/DATASET/TEST'\n",
        "\n",
        "train_datagen = ImageDataGenerator(\n",
        "    rescale=1./255,\n",
        "    shear_range=0.2,\n",
        "    rotation_range=45,\n",
        "    fill_mode='reflect',\n",
        "    zoom_range=0.2,\n",
        "    brightness_range=[0.8, 1.2],\n",
        "    width_shift_range=0.2,\n",
        "    height_shift_range=0.2,\n",
        "    horizontal_flip=True,\n",
        "    vertical_flip=True\n",
        ")\n",
        "\n",
        "validation_datagen = ImageDataGenerator(rescale=1./255)\n",
        "\n",
        "train_generator = train_datagen.flow_from_directory(\n",
        "    directory=train_path,\n",
        "    target_size=(224,224),\n",
        "    class_mode='categorical',\n",
        "    batch_size=20,\n",
        "    color_mode='rgb'\n",
        ")\n",
        "\n",
        "validation_generator = validation_datagen.flow_from_directory(\n",
        "    directory=test_path,\n",
        "    target_size=(224,224),\n",
        "    class_mode='categorical',\n",
        "    batch_size=20,\n",
        "    color_mode='rgb'\n",
        ")\n",
        "\n",
        "types_dict = train_generator.class_indices\n",
        "print(types_dict)"
      ],
      "metadata": {
        "colab": {
          "base_uri": "https://localhost:8080/"
        },
        "id": "KpJVlC68_skS",
        "outputId": "b342afa3-e5ca-4d16-d307-2f70f8e39cee"
      },
      "execution_count": 9,
      "outputs": [
        {
          "output_type": "stream",
          "name": "stdout",
          "text": [
            "Found 1120 images belonging to 14 classes.\n",
            "Found 280 images belonging to 14 classes.\n",
            "{'Abimanyu': 0, 'Antasena': 1, 'Arjuna': 2, 'Bagong': 3, 'Bima': 4, 'Cepot': 5, 'Gareng': 6, 'Gatot Kaca': 7, 'Hanoman': 8, 'Kresna': 9, 'Nakula': 10, 'Petruk': 11, 'Semar': 12, 'Yudhistira': 13}\n"
          ]
        }
      ]
    },
    {
      "cell_type": "code",
      "source": [
        "#base model MobileNetV2\n",
        "from tensorflow.keras.applications import MobileNetV2\n",
        "base_model = MobileNetV2(\n",
        "    include_top=False,\n",
        "    weights='imagenet',\n",
        "    input_shape=(224, 224, 3),\n",
        "    alpha=0.75,\n",
        "    pooling='avg'\n",
        ")\n",
        "\n",
        "base_model.trainable = False"
      ],
      "metadata": {
        "colab": {
          "base_uri": "https://localhost:8080/"
        },
        "id": "4AkyiXvO_7CD",
        "outputId": "76aeb609-5f95-4773-bc2c-86afa0398d16"
      },
      "execution_count": 10,
      "outputs": [
        {
          "output_type": "stream",
          "name": "stdout",
          "text": [
            "Downloading data from https://storage.googleapis.com/tensorflow/keras-applications/mobilenet_v2/mobilenet_v2_weights_tf_dim_ordering_tf_kernels_0.75_224_no_top.h5\n",
            "5906432/5903360 [==============================] - 0s 0us/step\n",
            "5914624/5903360 [==============================] - 0s 0us/step\n"
          ]
        }
      ]
    },
    {
      "cell_type": "code",
      "source": [
        "#base model VGG16 (untuk saat ini jelek)\n",
        "\n",
        "#from tensorflow.keras.applications.vgg16 import VGG16\n",
        "\n",
        "#base_model = VGG16(\n",
        "#    include_top=False,\n",
        "#    weights='imagenet',\n",
        "#    input_shape=(224, 224, 3),\n",
        "#    pooling='avg'\n",
        "#)"
      ],
      "metadata": {
        "id": "8S4fszdK__f2"
      },
      "execution_count": 11,
      "outputs": []
    },
    {
      "cell_type": "code",
      "source": [
        "def scheduler(epoch, lr):\n",
        "  if epoch <= 10:\n",
        "    return lr\n",
        "  elif 10 < epoch <= 20:\n",
        "    return lr * tf.math.exp(-0.1)\n",
        "  else:\n",
        "    return lr * tf.math.exp(-0.2)\n",
        "\n",
        "lr_callback = tf.keras.callbacks.LearningRateScheduler(scheduler)"
      ],
      "metadata": {
        "id": "yQNC4PYc__8q"
      },
      "execution_count": 12,
      "outputs": []
    },
    {
      "cell_type": "code",
      "source": [
        "EPOCHS = 100\n",
        "LEARNING_RATE = 1e-4\n",
        "TRAIN_STEP = 700//20\n",
        "VAL_STEP = 200//20"
      ],
      "metadata": {
        "id": "kSGnqWI_AD2B"
      },
      "execution_count": 13,
      "outputs": []
    },
    {
      "cell_type": "code",
      "source": [
        "clear_session()\n",
        "\n",
        "model = Sequential([\n",
        "    base_model,\n",
        "    Dense(400, activation='relu',\n",
        "          kernel_regularizer=regularizers.l1_l2(l1=1e-5, l2=1e-4)\n",
        "    ),\n",
        "    Dropout(0.3),\n",
        "    Dense(14, activation='softmax')\n",
        "])\n",
        "\n",
        "model.compile(\n",
        "    optimizer=Adam(learning_rate=LEARNING_RATE),\n",
        "    loss='categorical_crossentropy',\n",
        "    metrics=['accuracy'],\n",
        ")"
      ],
      "metadata": {
        "id": "A1SXdPztAF8p"
      },
      "execution_count": 14,
      "outputs": []
    },
    {
      "cell_type": "code",
      "source": [
        "model.summary()"
      ],
      "metadata": {
        "colab": {
          "base_uri": "https://localhost:8080/"
        },
        "id": "7QN6T1FPAIG3",
        "outputId": "aa693195-ac7e-400d-fed9-5f1862202a0c"
      },
      "execution_count": 15,
      "outputs": [
        {
          "output_type": "stream",
          "name": "stdout",
          "text": [
            "Model: \"sequential\"\n",
            "_________________________________________________________________\n",
            " Layer (type)                Output Shape              Param #   \n",
            "=================================================================\n",
            " mobilenetv2_0.75_224 (Funct  (None, 1280)             1382064   \n",
            " ional)                                                          \n",
            "                                                                 \n",
            " dense (Dense)               (None, 400)               512400    \n",
            "                                                                 \n",
            " dropout (Dropout)           (None, 400)               0         \n",
            "                                                                 \n",
            " dense_1 (Dense)             (None, 14)                5614      \n",
            "                                                                 \n",
            "=================================================================\n",
            "Total params: 1,900,078\n",
            "Trainable params: 518,014\n",
            "Non-trainable params: 1,382,064\n",
            "_________________________________________________________________\n"
          ]
        }
      ]
    },
    {
      "cell_type": "code",
      "source": [
        "history = model.fit(\n",
        "    train_generator,\n",
        "    validation_data=validation_generator,\n",
        "    steps_per_epoch=TRAIN_STEP,\n",
        "    validation_steps=VAL_STEP,\n",
        "    shuffle=True,\n",
        "    epochs=EPOCHS,\n",
        "    callbacks=[lr_callback]\n",
        ")"
      ],
      "metadata": {
        "colab": {
          "base_uri": "https://localhost:8080/"
        },
        "id": "RscCo3dHAKcK",
        "outputId": "fbbc140b-325a-44bd-cefd-5ecc4ac8e385"
      },
      "execution_count": 16,
      "outputs": [
        {
          "output_type": "stream",
          "name": "stdout",
          "text": [
            "Epoch 1/100\n",
            "35/35 [==============================] - 27s 287ms/step - loss: 2.9490 - accuracy: 0.1357 - val_loss: 2.5435 - val_accuracy: 0.2600 - lr: 1.0000e-04\n",
            "Epoch 2/100\n",
            "35/35 [==============================] - 10s 272ms/step - loss: 2.6228 - accuracy: 0.2214 - val_loss: 2.3200 - val_accuracy: 0.3400 - lr: 1.0000e-04\n",
            "Epoch 3/100\n",
            "35/35 [==============================] - 11s 324ms/step - loss: 2.3947 - accuracy: 0.2743 - val_loss: 2.1505 - val_accuracy: 0.4300 - lr: 1.0000e-04\n",
            "Epoch 4/100\n",
            "35/35 [==============================] - 10s 287ms/step - loss: 2.2315 - accuracy: 0.3329 - val_loss: 1.9584 - val_accuracy: 0.5200 - lr: 1.0000e-04\n",
            "Epoch 5/100\n",
            "35/35 [==============================] - 10s 272ms/step - loss: 2.0614 - accuracy: 0.3829 - val_loss: 1.8908 - val_accuracy: 0.4950 - lr: 1.0000e-04\n",
            "Epoch 6/100\n",
            "35/35 [==============================] - 9s 268ms/step - loss: 1.9504 - accuracy: 0.4429 - val_loss: 1.7417 - val_accuracy: 0.5650 - lr: 1.0000e-04\n",
            "Epoch 7/100\n",
            "35/35 [==============================] - 9s 269ms/step - loss: 1.8416 - accuracy: 0.4686 - val_loss: 1.6925 - val_accuracy: 0.5650 - lr: 1.0000e-04\n",
            "Epoch 8/100\n",
            "35/35 [==============================] - 10s 275ms/step - loss: 1.7472 - accuracy: 0.5257 - val_loss: 1.6622 - val_accuracy: 0.6150 - lr: 1.0000e-04\n",
            "Epoch 9/100\n",
            "35/35 [==============================] - 9s 271ms/step - loss: 1.7000 - accuracy: 0.5357 - val_loss: 1.5976 - val_accuracy: 0.6000 - lr: 1.0000e-04\n",
            "Epoch 10/100\n",
            "35/35 [==============================] - 9s 270ms/step - loss: 1.6145 - accuracy: 0.5400 - val_loss: 1.5196 - val_accuracy: 0.6400 - lr: 1.0000e-04\n",
            "Epoch 11/100\n",
            "35/35 [==============================] - 10s 279ms/step - loss: 1.6521 - accuracy: 0.5343 - val_loss: 1.4659 - val_accuracy: 0.6350 - lr: 1.0000e-04\n",
            "Epoch 12/100\n",
            "35/35 [==============================] - 10s 273ms/step - loss: 1.5636 - accuracy: 0.5500 - val_loss: 1.4614 - val_accuracy: 0.6350 - lr: 9.0484e-05\n",
            "Epoch 13/100\n",
            "35/35 [==============================] - 10s 275ms/step - loss: 1.4830 - accuracy: 0.5914 - val_loss: 1.4757 - val_accuracy: 0.6050 - lr: 8.1873e-05\n",
            "Epoch 14/100\n",
            "35/35 [==============================] - 10s 273ms/step - loss: 1.4622 - accuracy: 0.5886 - val_loss: 1.3907 - val_accuracy: 0.6300 - lr: 7.4082e-05\n",
            "Epoch 15/100\n",
            "35/35 [==============================] - 9s 269ms/step - loss: 1.4542 - accuracy: 0.5800 - val_loss: 1.3596 - val_accuracy: 0.6550 - lr: 6.7032e-05\n",
            "Epoch 16/100\n",
            "35/35 [==============================] - 9s 269ms/step - loss: 1.4050 - accuracy: 0.6200 - val_loss: 1.3037 - val_accuracy: 0.6700 - lr: 6.0653e-05\n",
            "Epoch 17/100\n",
            "35/35 [==============================] - 10s 284ms/step - loss: 1.3565 - accuracy: 0.6471 - val_loss: 1.3846 - val_accuracy: 0.6550 - lr: 5.4881e-05\n",
            "Epoch 18/100\n",
            "35/35 [==============================] - 9s 271ms/step - loss: 1.3692 - accuracy: 0.6314 - val_loss: 1.3641 - val_accuracy: 0.6500 - lr: 4.9659e-05\n",
            "Epoch 19/100\n",
            "35/35 [==============================] - 10s 273ms/step - loss: 1.3580 - accuracy: 0.6586 - val_loss: 1.3707 - val_accuracy: 0.6400 - lr: 4.4933e-05\n",
            "Epoch 20/100\n",
            "35/35 [==============================] - 10s 274ms/step - loss: 1.3704 - accuracy: 0.6157 - val_loss: 1.3151 - val_accuracy: 0.6700 - lr: 4.0657e-05\n",
            "Epoch 21/100\n",
            "35/35 [==============================] - 10s 272ms/step - loss: 1.3349 - accuracy: 0.6314 - val_loss: 1.3038 - val_accuracy: 0.6650 - lr: 3.6788e-05\n",
            "Epoch 22/100\n",
            "35/35 [==============================] - 10s 274ms/step - loss: 1.2999 - accuracy: 0.6586 - val_loss: 1.3530 - val_accuracy: 0.6550 - lr: 3.0119e-05\n",
            "Epoch 23/100\n",
            "35/35 [==============================] - 9s 269ms/step - loss: 1.3129 - accuracy: 0.6557 - val_loss: 1.2619 - val_accuracy: 0.6650 - lr: 2.4660e-05\n",
            "Epoch 24/100\n",
            "35/35 [==============================] - 10s 275ms/step - loss: 1.3195 - accuracy: 0.6543 - val_loss: 1.3176 - val_accuracy: 0.6700 - lr: 2.0190e-05\n",
            "Epoch 25/100\n",
            "35/35 [==============================] - 10s 272ms/step - loss: 1.3163 - accuracy: 0.6500 - val_loss: 1.3647 - val_accuracy: 0.6450 - lr: 1.6530e-05\n",
            "Epoch 26/100\n",
            "35/35 [==============================] - 9s 271ms/step - loss: 1.3555 - accuracy: 0.6200 - val_loss: 1.2707 - val_accuracy: 0.6400 - lr: 1.3534e-05\n",
            "Epoch 27/100\n",
            "35/35 [==============================] - 10s 275ms/step - loss: 1.2721 - accuracy: 0.6557 - val_loss: 1.3352 - val_accuracy: 0.6300 - lr: 1.1080e-05\n",
            "Epoch 28/100\n",
            "35/35 [==============================] - 10s 273ms/step - loss: 1.2940 - accuracy: 0.6586 - val_loss: 1.3527 - val_accuracy: 0.6200 - lr: 9.0718e-06\n",
            "Epoch 29/100\n",
            "35/35 [==============================] - 10s 275ms/step - loss: 1.3056 - accuracy: 0.6614 - val_loss: 1.3272 - val_accuracy: 0.6550 - lr: 7.4274e-06\n",
            "Epoch 30/100\n",
            "35/35 [==============================] - 10s 276ms/step - loss: 1.2442 - accuracy: 0.6957 - val_loss: 1.2469 - val_accuracy: 0.6700 - lr: 6.0810e-06\n",
            "Epoch 31/100\n",
            "35/35 [==============================] - 9s 271ms/step - loss: 1.2651 - accuracy: 0.6657 - val_loss: 1.2211 - val_accuracy: 0.6950 - lr: 4.9787e-06\n",
            "Epoch 32/100\n",
            "35/35 [==============================] - 9s 270ms/step - loss: 1.3069 - accuracy: 0.6571 - val_loss: 1.2861 - val_accuracy: 0.6750 - lr: 4.0762e-06\n",
            "Epoch 33/100\n",
            "35/35 [==============================] - 10s 273ms/step - loss: 1.3241 - accuracy: 0.6643 - val_loss: 1.3078 - val_accuracy: 0.6400 - lr: 3.3373e-06\n",
            "Epoch 34/100\n",
            "35/35 [==============================] - 10s 274ms/step - loss: 1.2650 - accuracy: 0.6571 - val_loss: 1.3002 - val_accuracy: 0.6600 - lr: 2.7324e-06\n",
            "Epoch 35/100\n",
            "35/35 [==============================] - 10s 274ms/step - loss: 1.2554 - accuracy: 0.6800 - val_loss: 1.3120 - val_accuracy: 0.6600 - lr: 2.2371e-06\n",
            "Epoch 36/100\n",
            "35/35 [==============================] - 10s 278ms/step - loss: 1.2767 - accuracy: 0.6486 - val_loss: 1.2907 - val_accuracy: 0.6600 - lr: 1.8316e-06\n",
            "Epoch 37/100\n",
            "35/35 [==============================] - 9s 268ms/step - loss: 1.3367 - accuracy: 0.6314 - val_loss: 1.2726 - val_accuracy: 0.6600 - lr: 1.4996e-06\n",
            "Epoch 38/100\n",
            "35/35 [==============================] - 10s 275ms/step - loss: 1.2888 - accuracy: 0.6586 - val_loss: 1.2790 - val_accuracy: 0.6650 - lr: 1.2277e-06\n",
            "Epoch 39/100\n",
            "35/35 [==============================] - 10s 272ms/step - loss: 1.2637 - accuracy: 0.6857 - val_loss: 1.3518 - val_accuracy: 0.6350 - lr: 1.0052e-06\n",
            "Epoch 40/100\n",
            "35/35 [==============================] - 9s 270ms/step - loss: 1.2655 - accuracy: 0.6557 - val_loss: 1.2227 - val_accuracy: 0.6800 - lr: 8.2297e-07\n",
            "Epoch 41/100\n",
            "35/35 [==============================] - 10s 279ms/step - loss: 1.2818 - accuracy: 0.6457 - val_loss: 1.2754 - val_accuracy: 0.6750 - lr: 6.7379e-07\n",
            "Epoch 42/100\n",
            "35/35 [==============================] - 9s 271ms/step - loss: 1.2276 - accuracy: 0.6771 - val_loss: 1.2638 - val_accuracy: 0.6850 - lr: 5.5166e-07\n",
            "Epoch 43/100\n",
            "35/35 [==============================] - 10s 276ms/step - loss: 1.2672 - accuracy: 0.6743 - val_loss: 1.2906 - val_accuracy: 0.6650 - lr: 4.5166e-07\n",
            "Epoch 44/100\n",
            "35/35 [==============================] - 9s 269ms/step - loss: 1.3044 - accuracy: 0.6614 - val_loss: 1.2677 - val_accuracy: 0.6700 - lr: 3.6979e-07\n",
            "Epoch 45/100\n",
            "35/35 [==============================] - 9s 271ms/step - loss: 1.3151 - accuracy: 0.6429 - val_loss: 1.3268 - val_accuracy: 0.6550 - lr: 3.0276e-07\n",
            "Epoch 46/100\n",
            "35/35 [==============================] - 9s 269ms/step - loss: 1.2286 - accuracy: 0.6957 - val_loss: 1.2896 - val_accuracy: 0.6650 - lr: 2.4788e-07\n",
            "Epoch 47/100\n",
            "35/35 [==============================] - 9s 271ms/step - loss: 1.3213 - accuracy: 0.6429 - val_loss: 1.2187 - val_accuracy: 0.7050 - lr: 2.0294e-07\n",
            "Epoch 48/100\n",
            "35/35 [==============================] - 9s 268ms/step - loss: 1.2195 - accuracy: 0.6743 - val_loss: 1.2585 - val_accuracy: 0.6900 - lr: 1.6616e-07\n",
            "Epoch 49/100\n",
            "35/35 [==============================] - 9s 270ms/step - loss: 1.2395 - accuracy: 0.7000 - val_loss: 1.2137 - val_accuracy: 0.7200 - lr: 1.3604e-07\n",
            "Epoch 50/100\n",
            "35/35 [==============================] - 10s 277ms/step - loss: 1.2736 - accuracy: 0.6657 - val_loss: 1.2811 - val_accuracy: 0.6650 - lr: 1.1138e-07\n",
            "Epoch 51/100\n",
            "35/35 [==============================] - 10s 279ms/step - loss: 1.2202 - accuracy: 0.6829 - val_loss: 1.2819 - val_accuracy: 0.6600 - lr: 9.1188e-08\n",
            "Epoch 52/100\n",
            "35/35 [==============================] - 10s 271ms/step - loss: 1.2993 - accuracy: 0.6657 - val_loss: 1.3963 - val_accuracy: 0.6250 - lr: 7.4659e-08\n",
            "Epoch 53/100\n",
            "35/35 [==============================] - 10s 274ms/step - loss: 1.3251 - accuracy: 0.6443 - val_loss: 1.2749 - val_accuracy: 0.6700 - lr: 6.1125e-08\n",
            "Epoch 54/100\n",
            "35/35 [==============================] - 9s 271ms/step - loss: 1.3094 - accuracy: 0.6543 - val_loss: 1.2174 - val_accuracy: 0.6900 - lr: 5.0045e-08\n",
            "Epoch 55/100\n",
            "35/35 [==============================] - 10s 275ms/step - loss: 1.2881 - accuracy: 0.6600 - val_loss: 1.2850 - val_accuracy: 0.6700 - lr: 4.0974e-08\n",
            "Epoch 56/100\n",
            "35/35 [==============================] - 9s 268ms/step - loss: 1.2996 - accuracy: 0.6629 - val_loss: 1.2609 - val_accuracy: 0.6900 - lr: 3.3546e-08\n",
            "Epoch 57/100\n",
            "35/35 [==============================] - 9s 270ms/step - loss: 1.2907 - accuracy: 0.6657 - val_loss: 1.3042 - val_accuracy: 0.6550 - lr: 2.7465e-08\n",
            "Epoch 58/100\n",
            "35/35 [==============================] - 9s 271ms/step - loss: 1.2771 - accuracy: 0.6757 - val_loss: 1.2147 - val_accuracy: 0.6750 - lr: 2.2487e-08\n",
            "Epoch 59/100\n",
            "35/35 [==============================] - 9s 269ms/step - loss: 1.2980 - accuracy: 0.6571 - val_loss: 1.3031 - val_accuracy: 0.6850 - lr: 1.8411e-08\n",
            "Epoch 60/100\n",
            "35/35 [==============================] - 10s 273ms/step - loss: 1.2704 - accuracy: 0.6514 - val_loss: 1.2573 - val_accuracy: 0.6800 - lr: 1.5073e-08\n",
            "Epoch 61/100\n",
            "35/35 [==============================] - 10s 281ms/step - loss: 1.2981 - accuracy: 0.6414 - val_loss: 1.2716 - val_accuracy: 0.6600 - lr: 1.2341e-08\n",
            "Epoch 62/100\n",
            "35/35 [==============================] - 9s 268ms/step - loss: 1.2717 - accuracy: 0.6829 - val_loss: 1.2466 - val_accuracy: 0.6700 - lr: 1.0104e-08\n",
            "Epoch 63/100\n",
            "35/35 [==============================] - 10s 277ms/step - loss: 1.2353 - accuracy: 0.6814 - val_loss: 1.2819 - val_accuracy: 0.6600 - lr: 8.2724e-09\n",
            "Epoch 64/100\n",
            "35/35 [==============================] - 10s 282ms/step - loss: 1.2576 - accuracy: 0.6786 - val_loss: 1.2659 - val_accuracy: 0.6750 - lr: 6.7729e-09\n",
            "Epoch 65/100\n",
            "35/35 [==============================] - 10s 281ms/step - loss: 1.2735 - accuracy: 0.6600 - val_loss: 1.2235 - val_accuracy: 0.6900 - lr: 5.5452e-09\n",
            "Epoch 66/100\n",
            "35/35 [==============================] - 10s 280ms/step - loss: 1.2725 - accuracy: 0.6814 - val_loss: 1.2240 - val_accuracy: 0.6800 - lr: 4.5400e-09\n",
            "Epoch 67/100\n",
            "35/35 [==============================] - 9s 270ms/step - loss: 1.3270 - accuracy: 0.6471 - val_loss: 1.2261 - val_accuracy: 0.6850 - lr: 3.7170e-09\n",
            "Epoch 68/100\n",
            "35/35 [==============================] - 9s 268ms/step - loss: 1.2710 - accuracy: 0.6600 - val_loss: 1.2209 - val_accuracy: 0.6900 - lr: 3.0432e-09\n",
            "Epoch 69/100\n",
            "35/35 [==============================] - 9s 269ms/step - loss: 1.2859 - accuracy: 0.6629 - val_loss: 1.3804 - val_accuracy: 0.6400 - lr: 2.4916e-09\n",
            "Epoch 70/100\n",
            "35/35 [==============================] - 9s 271ms/step - loss: 1.2396 - accuracy: 0.6786 - val_loss: 1.2900 - val_accuracy: 0.6500 - lr: 2.0400e-09\n",
            "Epoch 71/100\n",
            "35/35 [==============================] - 10s 275ms/step - loss: 1.2950 - accuracy: 0.6557 - val_loss: 1.2782 - val_accuracy: 0.6600 - lr: 1.6702e-09\n",
            "Epoch 72/100\n",
            "35/35 [==============================] - 9s 269ms/step - loss: 1.2618 - accuracy: 0.6671 - val_loss: 1.3300 - val_accuracy: 0.6400 - lr: 1.3674e-09\n",
            "Epoch 73/100\n",
            "35/35 [==============================] - 9s 268ms/step - loss: 1.2758 - accuracy: 0.6629 - val_loss: 1.3262 - val_accuracy: 0.6450 - lr: 1.1195e-09\n",
            "Epoch 74/100\n",
            "35/35 [==============================] - 9s 267ms/step - loss: 1.2933 - accuracy: 0.6657 - val_loss: 1.2803 - val_accuracy: 0.6750 - lr: 9.1661e-10\n",
            "Epoch 75/100\n",
            "35/35 [==============================] - 9s 268ms/step - loss: 1.2210 - accuracy: 0.6843 - val_loss: 1.3139 - val_accuracy: 0.6500 - lr: 7.5046e-10\n",
            "Epoch 76/100\n",
            "35/35 [==============================] - 10s 273ms/step - loss: 1.2593 - accuracy: 0.6686 - val_loss: 1.2990 - val_accuracy: 0.6650 - lr: 6.1442e-10\n",
            "Epoch 77/100\n",
            "35/35 [==============================] - 10s 273ms/step - loss: 1.2648 - accuracy: 0.6729 - val_loss: 1.2932 - val_accuracy: 0.6600 - lr: 5.0305e-10\n",
            "Epoch 78/100\n",
            "35/35 [==============================] - 9s 268ms/step - loss: 1.2877 - accuracy: 0.6571 - val_loss: 1.2642 - val_accuracy: 0.6950 - lr: 4.1186e-10\n",
            "Epoch 79/100\n",
            "35/35 [==============================] - 9s 271ms/step - loss: 1.2537 - accuracy: 0.6829 - val_loss: 1.3626 - val_accuracy: 0.6300 - lr: 3.3720e-10\n",
            "Epoch 80/100\n",
            "35/35 [==============================] - 10s 273ms/step - loss: 1.2872 - accuracy: 0.6729 - val_loss: 1.3031 - val_accuracy: 0.6450 - lr: 2.7608e-10\n",
            "Epoch 81/100\n",
            "35/35 [==============================] - 9s 271ms/step - loss: 1.2711 - accuracy: 0.6557 - val_loss: 1.3063 - val_accuracy: 0.6600 - lr: 2.2603e-10\n",
            "Epoch 82/100\n",
            "35/35 [==============================] - 10s 278ms/step - loss: 1.3566 - accuracy: 0.6343 - val_loss: 1.3186 - val_accuracy: 0.6550 - lr: 1.8506e-10\n",
            "Epoch 83/100\n",
            "35/35 [==============================] - 10s 278ms/step - loss: 1.2804 - accuracy: 0.6643 - val_loss: 1.3242 - val_accuracy: 0.6800 - lr: 1.5151e-10\n",
            "Epoch 84/100\n",
            "35/35 [==============================] - 10s 272ms/step - loss: 1.2707 - accuracy: 0.6600 - val_loss: 1.2770 - val_accuracy: 0.6750 - lr: 1.2405e-10\n",
            "Epoch 85/100\n",
            "35/35 [==============================] - 10s 272ms/step - loss: 1.1903 - accuracy: 0.6929 - val_loss: 1.2346 - val_accuracy: 0.6900 - lr: 1.0156e-10\n",
            "Epoch 86/100\n",
            "35/35 [==============================] - 10s 273ms/step - loss: 1.2814 - accuracy: 0.6557 - val_loss: 1.2409 - val_accuracy: 0.6750 - lr: 8.3153e-11\n",
            "Epoch 87/100\n",
            "35/35 [==============================] - 9s 269ms/step - loss: 1.3007 - accuracy: 0.6500 - val_loss: 1.2436 - val_accuracy: 0.6850 - lr: 6.8080e-11\n",
            "Epoch 88/100\n",
            "35/35 [==============================] - 10s 273ms/step - loss: 1.3522 - accuracy: 0.6429 - val_loss: 1.2932 - val_accuracy: 0.6800 - lr: 5.5739e-11\n",
            "Epoch 89/100\n",
            "35/35 [==============================] - 9s 270ms/step - loss: 1.3040 - accuracy: 0.6529 - val_loss: 1.3052 - val_accuracy: 0.6550 - lr: 4.5635e-11\n",
            "Epoch 90/100\n",
            "35/35 [==============================] - 9s 268ms/step - loss: 1.3346 - accuracy: 0.6514 - val_loss: 1.3007 - val_accuracy: 0.6450 - lr: 3.7363e-11\n",
            "Epoch 91/100\n",
            "35/35 [==============================] - 9s 271ms/step - loss: 1.3002 - accuracy: 0.6557 - val_loss: 1.2866 - val_accuracy: 0.6550 - lr: 3.0590e-11\n",
            "Epoch 92/100\n",
            "35/35 [==============================] - 9s 270ms/step - loss: 1.2801 - accuracy: 0.6586 - val_loss: 1.2660 - val_accuracy: 0.6800 - lr: 2.5045e-11\n",
            "Epoch 93/100\n",
            "35/35 [==============================] - 10s 278ms/step - loss: 1.2931 - accuracy: 0.6557 - val_loss: 1.2942 - val_accuracy: 0.6550 - lr: 2.0505e-11\n",
            "Epoch 94/100\n",
            "35/35 [==============================] - 10s 273ms/step - loss: 1.2807 - accuracy: 0.6757 - val_loss: 1.2643 - val_accuracy: 0.6850 - lr: 1.6788e-11\n",
            "Epoch 95/100\n",
            "35/35 [==============================] - 10s 271ms/step - loss: 1.2605 - accuracy: 0.6729 - val_loss: 1.3276 - val_accuracy: 0.6400 - lr: 1.3745e-11\n",
            "Epoch 96/100\n",
            "35/35 [==============================] - 9s 271ms/step - loss: 1.2420 - accuracy: 0.6729 - val_loss: 1.2292 - val_accuracy: 0.6900 - lr: 1.1254e-11\n",
            "Epoch 97/100\n",
            "35/35 [==============================] - 9s 270ms/step - loss: 1.2117 - accuracy: 0.6800 - val_loss: 1.2432 - val_accuracy: 0.6900 - lr: 9.2136e-12\n",
            "Epoch 98/100\n",
            "35/35 [==============================] - 9s 271ms/step - loss: 1.2719 - accuracy: 0.6671 - val_loss: 1.2891 - val_accuracy: 0.6450 - lr: 7.5435e-12\n",
            "Epoch 99/100\n",
            "35/35 [==============================] - 9s 269ms/step - loss: 1.2784 - accuracy: 0.6886 - val_loss: 1.2250 - val_accuracy: 0.6800 - lr: 6.1761e-12\n",
            "Epoch 100/100\n",
            "35/35 [==============================] - 9s 270ms/step - loss: 1.2627 - accuracy: 0.6557 - val_loss: 1.2838 - val_accuracy: 0.6850 - lr: 5.0565e-12\n"
          ]
        }
      ]
    },
    {
      "cell_type": "code",
      "source": [
        "train_accuracy = history.history['accuracy']\n",
        "val_accuracy = history.history['val_accuracy']\n",
        "train_loss = history.history['loss']\n",
        "val_loss= history.history['val_loss']\n",
        "\n",
        "plt.figure(figsize=(16, 8))\n",
        "\n",
        "# Cek hasil akurasi\n",
        "plt.subplot(1, 2, 1)\n",
        "plt.plot(train_accuracy, label='Training Accuracy', color='#185fad')\n",
        "plt.plot(val_accuracy, label='Validation Accuracy', color='orange')\n",
        "\n",
        "plt.title('Training and Validation Accuracy by Epoch', fontsize = 18)\n",
        "plt.xlabel('Epoch', fontsize = 18)\n",
        "plt.ylabel('Mean-Square-Error', fontsize = 18)\n",
        "plt.xticks(range(0,16,20), range(0,16,20))\n",
        "\n",
        "plt.legend(fontsize = 18);\n",
        "\n",
        "plt.subplot(1, 2, 2)\n",
        "plt.plot(train_loss, label='Training Loss', color='#185fad')\n",
        "plt.plot(val_loss, label='Validation Loss', color='orange')\n",
        "\n",
        "plt.title('Training and Validation Loss by Epoch', fontsize = 18)\n",
        "plt.xlabel('Epoch', fontsize = 18)\n",
        "plt.ylabel('Mean-Square-Error', fontsize = 18)\n",
        "plt.xticks(range(0,16,20), range(0,16,20))\n",
        "\n",
        "plt.legend(fontsize = 18)"
      ],
      "metadata": {
        "colab": {
          "base_uri": "https://localhost:8080/",
          "height": 542
        },
        "id": "VyJ-5JP0ALWZ",
        "outputId": "3e018da1-6527-4bea-a7ed-1327a3065715"
      },
      "execution_count": 17,
      "outputs": [
        {
          "output_type": "execute_result",
          "data": {
            "text/plain": [
              "<matplotlib.legend.Legend at 0x7f3a69f952d0>"
            ]
          },
          "metadata": {},
          "execution_count": 17
        },
        {
          "output_type": "display_data",
          "data": {
            "text/plain": [
              "<Figure size 1152x576 with 2 Axes>"
            ],
            "image/png": "[encoded data removed]"
          },
          "metadata": {}
        }
      ]
    },
    {
      "cell_type": "markdown",
      "source": [
        "# **Save The Model and Convert to .tflite**"
      ],
      "metadata": {
        "id": "xPnLYkzCASZl"
      }
    },
    {
      "cell_type": "code",
      "source": [
        "model_save_path = \"saved_model/15_motives\"\n",
        "tf.saved_model.save(model, model_save_path)\n",
        "\n",
        "# Convert the model\n",
        "converter = tf.lite.TFLiteConverter.from_saved_model(model_save_path) # path to the SavedModel directory\n",
        "tflite_model = converter.convert()\n",
        "\n",
        "# Save the model.\n",
        "os.makedirs('tflite_models')\n",
        "with open('tflite_models/wayang_types.tflite', 'wb') as f:\n",
        "  f.write(tflite_model)"
      ],
      "metadata": {
        "colab": {
          "base_uri": "https://localhost:8080/"
        },
        "id": "j1a09xQrAOFc",
        "outputId": "de649894-b448-43f7-96c7-6001d0c91abf"
      },
      "execution_count": 18,
      "outputs": [
        {
          "output_type": "stream",
          "name": "stderr",
          "text": [
            "WARNING:absl:Function `_wrapped_model` contains input name(s) mobilenetv2_0.75_224_input with unsupported characters which will be renamed to mobilenetv2_0_75_224_input in the SavedModel.\n"
          ]
        },
        {
          "output_type": "stream",
          "name": "stdout",
          "text": [
            "INFO:tensorflow:Assets written to: saved_model/15_motives/assets\n"
          ]
        },
        {
          "output_type": "stream",
          "name": "stderr",
          "text": [
            "INFO:tensorflow:Assets written to: saved_model/15_motives/assets\n",
            "WARNING:absl:Buffer deduplication procedure will be skipped when flatbuffer library is not properly loaded\n"
          ]
        }
      ]
    }
  ]
}